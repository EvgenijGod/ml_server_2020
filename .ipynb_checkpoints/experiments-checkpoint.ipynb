{
 "cells": [
  {
   "cell_type": "code",
   "execution_count": 63,
   "metadata": {},
   "outputs": [],
   "source": [
    "import numpy as np\n",
    "import pandas as pd\n",
    "from sklearn.model_selection import train_test_split\n",
    "from tqdm import tqdm\n",
    "from time import time\n",
    "import matplotlib.pyplot as plt\n",
    "from copy import deepcopy"
   ]
  },
  {
   "cell_type": "code",
   "execution_count": 51,
   "metadata": {},
   "outputs": [],
   "source": [
    "from ensembles import RandomForestMSE, DecisionTreeRegressor"
   ]
  },
  {
   "cell_type": "markdown",
   "metadata": {},
   "source": [
    "# 1) Предобработка данных"
   ]
  },
  {
   "cell_type": "code",
   "execution_count": 3,
   "metadata": {},
   "outputs": [],
   "source": [
    "data = pd.read_csv('regression_houses_2020/train_data.csv')\n",
    "y_data = pd.read_csv('regression_houses_2020/train_target.csv')"
   ]
  },
  {
   "cell_type": "code",
   "execution_count": 4,
   "metadata": {},
   "outputs": [
    {
     "data": {
      "text/html": [
       "<div>\n",
       "<style scoped>\n",
       "    .dataframe tbody tr th:only-of-type {\n",
       "        vertical-align: middle;\n",
       "    }\n",
       "\n",
       "    .dataframe tbody tr th {\n",
       "        vertical-align: top;\n",
       "    }\n",
       "\n",
       "    .dataframe thead th {\n",
       "        text-align: right;\n",
       "    }\n",
       "</style>\n",
       "<table border=\"1\" class=\"dataframe\">\n",
       "  <thead>\n",
       "    <tr style=\"text-align: right;\">\n",
       "      <th></th>\n",
       "      <th>index</th>\n",
       "      <th>id</th>\n",
       "      <th>date</th>\n",
       "      <th>bedrooms_number</th>\n",
       "      <th>batchrooms_number</th>\n",
       "      <th>square_footage_home</th>\n",
       "      <th>square_footage_lot</th>\n",
       "      <th>floors_number</th>\n",
       "      <th>has_waterfront</th>\n",
       "      <th>has_been_viewed</th>\n",
       "      <th>condition_quality</th>\n",
       "      <th>housing_unity_grade</th>\n",
       "      <th>square_footage_except_basement</th>\n",
       "      <th>square_footage_only_basement</th>\n",
       "      <th>build_year</th>\n",
       "      <th>renovation_year</th>\n",
       "      <th>coordinate_latitude</th>\n",
       "      <th>coordinate_longitude</th>\n",
       "      <th>square_footage_home_old</th>\n",
       "      <th>square_footage_lot_old</th>\n",
       "    </tr>\n",
       "  </thead>\n",
       "  <tbody>\n",
       "    <tr>\n",
       "      <th>0</th>\n",
       "      <td>0</td>\n",
       "      <td>16530</td>\n",
       "      <td>2014-05-02</td>\n",
       "      <td>2</td>\n",
       "      <td>2.00</td>\n",
       "      <td>1350</td>\n",
       "      <td>2560</td>\n",
       "      <td>1.0</td>\n",
       "      <td>0</td>\n",
       "      <td>0</td>\n",
       "      <td>3</td>\n",
       "      <td>8</td>\n",
       "      <td>1350</td>\n",
       "      <td>0</td>\n",
       "      <td>1976</td>\n",
       "      <td>0</td>\n",
       "      <td>200.6344</td>\n",
       "      <td>4.893</td>\n",
       "      <td>1790</td>\n",
       "      <td>2560</td>\n",
       "    </tr>\n",
       "    <tr>\n",
       "      <th>1</th>\n",
       "      <td>1</td>\n",
       "      <td>3651</td>\n",
       "      <td>2014-05-02</td>\n",
       "      <td>3</td>\n",
       "      <td>1.75</td>\n",
       "      <td>1800</td>\n",
       "      <td>23103</td>\n",
       "      <td>1.0</td>\n",
       "      <td>0</td>\n",
       "      <td>0</td>\n",
       "      <td>3</td>\n",
       "      <td>7</td>\n",
       "      <td>1800</td>\n",
       "      <td>0</td>\n",
       "      <td>1968</td>\n",
       "      <td>0</td>\n",
       "      <td>200.6517</td>\n",
       "      <td>5.094</td>\n",
       "      <td>1410</td>\n",
       "      <td>18163</td>\n",
       "    </tr>\n",
       "    <tr>\n",
       "      <th>2</th>\n",
       "      <td>2</td>\n",
       "      <td>13568</td>\n",
       "      <td>2014-05-02</td>\n",
       "      <td>3</td>\n",
       "      <td>1.75</td>\n",
       "      <td>2240</td>\n",
       "      <td>10578</td>\n",
       "      <td>2.0</td>\n",
       "      <td>0</td>\n",
       "      <td>0</td>\n",
       "      <td>5</td>\n",
       "      <td>8</td>\n",
       "      <td>1550</td>\n",
       "      <td>690</td>\n",
       "      <td>1923</td>\n",
       "      <td>0</td>\n",
       "      <td>200.6954</td>\n",
       "      <td>4.708</td>\n",
       "      <td>1570</td>\n",
       "      <td>10578</td>\n",
       "    </tr>\n",
       "    <tr>\n",
       "      <th>3</th>\n",
       "      <td>3</td>\n",
       "      <td>20352</td>\n",
       "      <td>2014-05-02</td>\n",
       "      <td>4</td>\n",
       "      <td>2.00</td>\n",
       "      <td>1820</td>\n",
       "      <td>5000</td>\n",
       "      <td>1.5</td>\n",
       "      <td>0</td>\n",
       "      <td>1</td>\n",
       "      <td>3</td>\n",
       "      <td>7</td>\n",
       "      <td>1640</td>\n",
       "      <td>180</td>\n",
       "      <td>1945</td>\n",
       "      <td>0</td>\n",
       "      <td>200.6815</td>\n",
       "      <td>4.731</td>\n",
       "      <td>2060</td>\n",
       "      <td>5000</td>\n",
       "    </tr>\n",
       "    <tr>\n",
       "      <th>4</th>\n",
       "      <td>4</td>\n",
       "      <td>10524</td>\n",
       "      <td>2014-05-02</td>\n",
       "      <td>4</td>\n",
       "      <td>1.75</td>\n",
       "      <td>1560</td>\n",
       "      <td>8700</td>\n",
       "      <td>1.0</td>\n",
       "      <td>0</td>\n",
       "      <td>0</td>\n",
       "      <td>4</td>\n",
       "      <td>7</td>\n",
       "      <td>1560</td>\n",
       "      <td>0</td>\n",
       "      <td>1967</td>\n",
       "      <td>0</td>\n",
       "      <td>200.7274</td>\n",
       "      <td>4.819</td>\n",
       "      <td>2080</td>\n",
       "      <td>8000</td>\n",
       "    </tr>\n",
       "  </tbody>\n",
       "</table>\n",
       "</div>"
      ],
      "text/plain": [
       "   index     id        date  bedrooms_number  batchrooms_number  \\\n",
       "0      0  16530  2014-05-02                2               2.00   \n",
       "1      1   3651  2014-05-02                3               1.75   \n",
       "2      2  13568  2014-05-02                3               1.75   \n",
       "3      3  20352  2014-05-02                4               2.00   \n",
       "4      4  10524  2014-05-02                4               1.75   \n",
       "\n",
       "   square_footage_home  square_footage_lot  floors_number  has_waterfront  \\\n",
       "0                 1350                2560            1.0               0   \n",
       "1                 1800               23103            1.0               0   \n",
       "2                 2240               10578            2.0               0   \n",
       "3                 1820                5000            1.5               0   \n",
       "4                 1560                8700            1.0               0   \n",
       "\n",
       "   has_been_viewed  condition_quality  housing_unity_grade  \\\n",
       "0                0                  3                    8   \n",
       "1                0                  3                    7   \n",
       "2                0                  5                    8   \n",
       "3                1                  3                    7   \n",
       "4                0                  4                    7   \n",
       "\n",
       "   square_footage_except_basement  square_footage_only_basement  build_year  \\\n",
       "0                            1350                             0        1976   \n",
       "1                            1800                             0        1968   \n",
       "2                            1550                           690        1923   \n",
       "3                            1640                           180        1945   \n",
       "4                            1560                             0        1967   \n",
       "\n",
       "   renovation_year  coordinate_latitude  coordinate_longitude  \\\n",
       "0                0             200.6344                 4.893   \n",
       "1                0             200.6517                 5.094   \n",
       "2                0             200.6954                 4.708   \n",
       "3                0             200.6815                 4.731   \n",
       "4                0             200.7274                 4.819   \n",
       "\n",
       "   square_footage_home_old  square_footage_lot_old  \n",
       "0                     1790                    2560  \n",
       "1                     1410                   18163  \n",
       "2                     1570                   10578  \n",
       "3                     2060                    5000  \n",
       "4                     2080                    8000  "
      ]
     },
     "execution_count": 4,
     "metadata": {},
     "output_type": "execute_result"
    }
   ],
   "source": [
    "data.head()"
   ]
  },
  {
   "cell_type": "code",
   "execution_count": 5,
   "metadata": {},
   "outputs": [
    {
     "data": {
      "text/html": [
       "<div>\n",
       "<style scoped>\n",
       "    .dataframe tbody tr th:only-of-type {\n",
       "        vertical-align: middle;\n",
       "    }\n",
       "\n",
       "    .dataframe tbody tr th {\n",
       "        vertical-align: top;\n",
       "    }\n",
       "\n",
       "    .dataframe thead th {\n",
       "        text-align: right;\n",
       "    }\n",
       "</style>\n",
       "<table border=\"1\" class=\"dataframe\">\n",
       "  <thead>\n",
       "    <tr style=\"text-align: right;\">\n",
       "      <th></th>\n",
       "      <th>index</th>\n",
       "      <th>price</th>\n",
       "    </tr>\n",
       "  </thead>\n",
       "  <tbody>\n",
       "    <tr>\n",
       "      <th>0</th>\n",
       "      <td>0</td>\n",
       "      <td>340.0</td>\n",
       "    </tr>\n",
       "    <tr>\n",
       "      <th>1</th>\n",
       "      <td>1</td>\n",
       "      <td>289.0</td>\n",
       "    </tr>\n",
       "    <tr>\n",
       "      <th>2</th>\n",
       "      <td>2</td>\n",
       "      <td>755.0</td>\n",
       "    </tr>\n",
       "    <tr>\n",
       "      <th>3</th>\n",
       "      <td>3</td>\n",
       "      <td>655.0</td>\n",
       "    </tr>\n",
       "    <tr>\n",
       "      <th>4</th>\n",
       "      <td>4</td>\n",
       "      <td>387.5</td>\n",
       "    </tr>\n",
       "  </tbody>\n",
       "</table>\n",
       "</div>"
      ],
      "text/plain": [
       "   index  price\n",
       "0      0  340.0\n",
       "1      1  289.0\n",
       "2      2  755.0\n",
       "3      3  655.0\n",
       "4      4  387.5"
      ]
     },
     "execution_count": 5,
     "metadata": {},
     "output_type": "execute_result"
    }
   ],
   "source": [
    "y_data.head()"
   ]
  },
  {
   "cell_type": "code",
   "execution_count": 10,
   "metadata": {},
   "outputs": [],
   "source": [
    "data.drop(columns=['index', 'id', 'date'], inplace=True)\n",
    "y_data.drop(columns=['index'], inplace=True)"
   ]
  },
  {
   "cell_type": "code",
   "execution_count": 12,
   "metadata": {},
   "outputs": [],
   "source": [
    "X_train, X_test, y_train, y_test = train_test_split(data.values, y_data.values.reshape(-1), \n",
    "                                                    train_size=0.8,\n",
    "                                                    random_state=241)"
   ]
  },
  {
   "cell_type": "code",
   "execution_count": 13,
   "metadata": {},
   "outputs": [
    {
     "data": {
      "text/plain": [
       "numpy.ndarray"
      ]
     },
     "execution_count": 13,
     "metadata": {},
     "output_type": "execute_result"
    }
   ],
   "source": [
    "type(X_test)"
   ]
  },
  {
   "cell_type": "code",
   "execution_count": 16,
   "metadata": {},
   "outputs": [],
   "source": [
    "def rmse(y_true, y_pred):\n",
    "    return np.mean((y_pred - y_true) ** 2) ** 0.5"
   ]
  },
  {
   "cell_type": "markdown",
   "metadata": {},
   "source": [
    "# 2) RandomForestMSE"
   ]
  },
  {
   "cell_type": "markdown",
   "metadata": {},
   "source": [
    "### RMSE and time (n_estimators)"
   ]
  },
  {
   "cell_type": "code",
   "execution_count": 41,
   "metadata": {},
   "outputs": [
    {
     "name": "stderr",
     "output_type": "stream",
     "text": [
      "100%|██████████| 33/33 [00:57<00:00,  1.75s/it]\n"
     ]
    }
   ],
   "source": [
    "n_estimators_range = np.arange(1, 100, 3)\n",
    "\n",
    "rmse_n_estimators = {'rmse':[], 'n_estimators': [], 'time' : []}\n",
    "\n",
    "for n in tqdm(n_estimators_range):\n",
    "    begin = time()\n",
    "    algo = RandomForestMSE(n_estimators=n)\n",
    "    algo.fit(X_train, y_train)\n",
    "    pred = algo.predict(X_test)\n",
    "    end = time()\n",
    "    rmse_n_estimators['time'].append(end - begin)\n",
    "    rmse_n_estimators['rmse'].append(rmse(y_test, pred))\n",
    "    rmse_n_estimators['n_estimators'].append(n)\n",
    "    "
   ]
  },
  {
   "cell_type": "code",
   "execution_count": 48,
   "metadata": {},
   "outputs": [
    {
     "name": "stderr",
     "output_type": "stream",
     "text": [
      "/home/evgenij/miniconda3/envs/py36/lib/python3.6/site-packages/ipykernel_launcher.py:18: UserWarning: Matplotlib is currently using module://ipykernel.pylab.backend_inline, which is a non-GUI backend, so cannot show the figure.\n"
     ]
    },
    {
     "data": {
      "image/png": "[encoded data removed]",
      "text/plain": [
       "<Figure size 1152x288 with 2 Axes>"
      ]
     },
     "metadata": {
      "needs_background": "light"
     },
     "output_type": "display_data"
    }
   ],
   "source": [
    "fig, ax = plt.subplots(1, 2, figsize = (16, 4))\n",
    "\n",
    "ax[0].plot(rmse_n_estimators['n_estimators'], rmse_n_estimators['rmse'])\n",
    "\n",
    "ax[0].set_title('Зависимость RMSE от числа деревьев')\n",
    "ax[0].set_xlabel('Число деревьев')\n",
    "ax[0].set_ylabel('RMSE')\n",
    "ax[0].grid(True)\n",
    "\n",
    "\n",
    "ax[1].plot(rmse_n_estimators['n_estimators'], rmse_n_estimators['time'])\n",
    "\n",
    "ax[1].set_title('Зависимость времени работы от числа деревьев')\n",
    "ax[1].set_xlabel('Число деревьев')\n",
    "ax[1].set_ylabel('Время (с)')\n",
    "ax[1].grid(True)\n",
    "\n",
    "fig.show()\n",
    "\n",
    "plt.savefig('plots/RF_rmse_time_n_estimators.pdf')"
   ]
  },
  {
   "cell_type": "markdown",
   "metadata": {},
   "source": [
    "### RMSE and time (размерность подвыборки признаков)"
   ]
  },
  {
   "cell_type": "code",
   "execution_count": 54,
   "metadata": {},
   "outputs": [
    {
     "name": "stderr",
     "output_type": "stream",
     "text": [
      "100%|██████████| 16/16 [00:06<00:00,  2.47it/s]\n"
     ]
    }
   ],
   "source": [
    "feature_subsample_size_range = np.arange(1, 17, 1)\n",
    "\n",
    "rmse_ndim = {'rmse':[], 'feature_subsample_size': [], 'time' : []}\n",
    "\n",
    "for n in tqdm(feature_subsample_size_range):\n",
    "    begin = time()\n",
    "    algo = RandomForestMSE(feature_subsample_size=n, n_estimators = 20)\n",
    "    algo.fit(X_train, y_train)\n",
    "    pred = algo.predict(X_test)\n",
    "    end = time()\n",
    "    rmse_ndim['time'].append(end - begin)\n",
    "    rmse_ndim['rmse'].append(rmse(y_test, pred))\n",
    "    rmse_ndim['feature_subsample_size'].append(n)\n",
    "    "
   ]
  },
  {
   "cell_type": "code",
   "execution_count": 57,
   "metadata": {},
   "outputs": [
    {
     "name": "stderr",
     "output_type": "stream",
     "text": [
      "/home/evgenij/miniconda3/envs/py36/lib/python3.6/site-packages/ipykernel_launcher.py:18: UserWarning: Matplotlib is currently using module://ipykernel.pylab.backend_inline, which is a non-GUI backend, so cannot show the figure.\n"
     ]
    },
    {
     "data": {
      "image/png": "[encoded data removed]",
      "text/plain": [
       "<Figure size 1152x288 with 2 Axes>"
      ]
     },
     "metadata": {
      "needs_background": "light"
     },
     "output_type": "display_data"
    }
   ],
   "source": [
    "fig, ax = plt.subplots(1, 2, figsize = (16, 4))\n",
    "\n",
    "ax[0].plot(rmse_ndim['feature_subsample_size'], rmse_ndim['rmse'])\n",
    "\n",
    "ax[0].set_title('Зависимость RMSE от числа признаков')\n",
    "ax[0].set_xlabel('Число признаков')\n",
    "ax[0].set_ylabel('RMSE')\n",
    "ax[0].grid(True)\n",
    "\n",
    "\n",
    "ax[1].plot(rmse_ndim['feature_subsample_size'], rmse_ndim['time'])\n",
    "\n",
    "ax[1].set_title('Зависимость времени работы от числа признаков')\n",
    "ax[1].set_xlabel('Число признаков')\n",
    "ax[1].set_ylabel('Время (с)')\n",
    "ax[1].grid(True)\n",
    "\n",
    "fig.show()\n",
    "\n",
    "plt.savefig('plots/RF_rmse_time_ndim.pdf')"
   ]
  },
  {
   "cell_type": "markdown",
   "metadata": {},
   "source": [
    "### RMSE and time (глубина дерева)"
   ]
  },
  {
   "cell_type": "code",
   "execution_count": 59,
   "metadata": {},
   "outputs": [
    {
     "name": "stderr",
     "output_type": "stream",
     "text": [
      "100%|██████████| 51/51 [00:33<00:00,  1.51it/s]\n"
     ]
    }
   ],
   "source": [
    "max_depth_range = list(np.arange(1, 100, 2))\n",
    "max_depth_range.append(None)\n",
    "\n",
    "rmse_depth = {'rmse':[], 'max_depth': [], 'time' : []}\n",
    "\n",
    "for n in tqdm(max_depth_range):\n",
    "    begin = time()\n",
    "    algo = RandomForestMSE(max_depth=n, n_estimators = 20)\n",
    "    algo.fit(X_train, y_train)\n",
    "    pred = algo.predict(X_test)\n",
    "    end = time()\n",
    "    rmse_depth['time'].append(end - begin)\n",
    "    rmse_depth['rmse'].append(rmse(y_test, pred))\n",
    "    rmse_depth['max_depth'].append(n)\n",
    "    "
   ]
  },
  {
   "cell_type": "code",
   "execution_count": 96,
   "metadata": {},
   "outputs": [
    {
     "name": "stderr",
     "output_type": "stream",
     "text": [
      "/home/evgenij/miniconda3/envs/py36/lib/python3.6/site-packages/ipykernel_launcher.py:29: UserWarning: Matplotlib is currently using module://ipykernel.pylab.backend_inline, which is a non-GUI backend, so cannot show the figure.\n"
     ]
    },
    {
     "data": {
      "image/png": "[encoded data removed]",
      "text/plain": [
       "<Figure size 1152x288 with 2 Axes>"
      ]
     },
     "metadata": {
      "needs_background": "light"
     },
     "output_type": "display_data"
    }
   ],
   "source": [
    "fig, ax = plt.subplots(1, 2, figsize = (16, 4))\n",
    "\n",
    "ticks = deepcopy(max_depth_range[:-1])\n",
    "ticks += [120]\n",
    "ax[0].plot(rmse_depth['max_depth'][:-1], rmse_depth['rmse'][:-1])\n",
    "\n",
    "ax[0].set_title('Зависимость RMSE от max глубины дерева')\n",
    "ax[0].set_xlabel('max глубина дерева')\n",
    "ax[0].set_ylabel('RMSE')\n",
    "ax[0].grid(True)\n",
    "ax[0].plot(ticks[-1], rmse_depth['rmse'][-1], 's', color = 'purple', \n",
    "           markersize = 10, label = 'Без ограничений')\n",
    "\n",
    "ax[0].set_xticks(ticks, minor=True)\n",
    "ax[0].legend()\n",
    "\n",
    "ax[1].plot(rmse_depth['max_depth'], rmse_depth['time'])\n",
    "\n",
    "ax[1].set_title('Зависимость времени работы от max глубины дерева')\n",
    "ax[1].set_xlabel('max глубина дерева')\n",
    "ax[1].set_ylabel('Время (с)')\n",
    "ax[1].grid(True)\n",
    "ax[1].plot(ticks[-1], rmse_depth['time'][-1], 's', color = 'purple',\n",
    "           markersize = 10, label = 'Без ограничений')\n",
    "\n",
    "\n",
    "ax[1].set_xticks(ticks, minor=True)\n",
    "ax[1].legend()\n",
    "fig.show()\n",
    "\n",
    "plt.savefig('plots/RF_rmse_time_depth.pdf')"
   ]
  },
  {
   "cell_type": "code",
   "execution_count": null,
   "metadata": {},
   "outputs": [],
   "source": []
  }
 ],
 "metadata": {
  "kernelspec": {
   "display_name": "Python 3",
   "language": "python",
   "name": "python3"
  },
  "language_info": {
   "codemirror_mode": {
    "name": "ipython",
    "version": 3
   },
   "file_extension": ".py",
   "mimetype": "text/x-python",
   "name": "python",
   "nbconvert_exporter": "python",
   "pygments_lexer": "ipython3",
   "version": "3.6.12"
  }
 },
 "nbformat": 4,
 "nbformat_minor": 4
}
